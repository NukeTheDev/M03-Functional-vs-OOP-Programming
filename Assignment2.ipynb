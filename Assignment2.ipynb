{
 "cells": [
  {
   "cell_type": "code",
   "execution_count": 4,
   "id": "ce022094",
   "metadata": {},
   "outputs": [],
   "source": [
    "# Define a class called Thing with no contents\n",
    "class Thing:\n",
    "    pass"
   ]
  },
  {
   "cell_type": "code",
   "execution_count": 5,
   "id": "3fbb3967",
   "metadata": {},
   "outputs": [
    {
     "name": "stdout",
     "output_type": "stream",
     "text": [
      "<__main__.Thing object at 0x000002A8D75D1240>\n"
     ]
    }
   ],
   "source": [
    "# Print the Thing class object\n",
    "print(Thing())"
   ]
  },
  {
   "cell_type": "code",
   "execution_count": 7,
   "id": "743289d6",
   "metadata": {},
   "outputs": [],
   "source": [
    "# Define a class called Thing with no contents\n",
    "class Thing:\n",
    "    pass"
   ]
  },
  {
   "cell_type": "code",
   "execution_count": 8,
   "id": "e1716d82",
   "metadata": {},
   "outputs": [
    {
     "name": "stdout",
     "output_type": "stream",
     "text": [
      "<__main__.Thing object at 0x000002A8D75D2500>\n"
     ]
    }
   ],
   "source": [
    "# Print the Thing class object\n",
    "print(Thing())"
   ]
  },
  {
   "cell_type": "code",
   "execution_count": 9,
   "id": "a58cac0f",
   "metadata": {},
   "outputs": [],
   "source": [
    "# Create an object called example from the Thing class\n",
    "example = Thing()"
   ]
  },
  {
   "cell_type": "code",
   "execution_count": 10,
   "id": "636955f7",
   "metadata": {},
   "outputs": [
    {
     "name": "stdout",
     "output_type": "stream",
     "text": [
      "<__main__.Thing object at 0x000002A8D760BB80>\n"
     ]
    }
   ],
   "source": [
    "# Print the example object\n",
    "print(example)\n",
    "# The printed values are different because the first print statement prints the class object, \n",
    "# while the second print statement prints the instance object."
   ]
  },
  {
   "cell_type": "code",
   "execution_count": 11,
   "id": "50ce57b5",
   "metadata": {},
   "outputs": [
    {
     "name": "stdout",
     "output_type": "stream",
     "text": [
      "abc\n"
     ]
    }
   ],
   "source": [
    "# 10.2\n",
    "# Define a new class called Thing2\n",
    "class Thing2:\n",
    "    # Assign the value 'abc' to a class attribute called letters\n",
    "    letters = 'abc'\n",
    "\n",
    "# Print the letters class attribute of the Thing2 class\n",
    "print(Thing2.letters)"
   ]
  },
  {
   "cell_type": "code",
   "execution_count": 12,
   "id": "6a2af9d3",
   "metadata": {},
   "outputs": [
    {
     "name": "stdout",
     "output_type": "stream",
     "text": [
      "xyz\n"
     ]
    }
   ],
   "source": [
    "# 10.3\n",
    "# Define a new class called Thing3\n",
    "class Thing3:\n",
    "    # Define an instance attribute called letters and assign the value 'xyz' to it\n",
    "    def __init__(self):\n",
    "        self.letters = 'xyz'\n",
    "\n",
    "# Create an object called example from the Thing3 class\n",
    "example = Thing3()\n",
    "\n",
    "# Print the letters instance attribute of the example object\n",
    "print(example.letters)\n",
    "\n",
    "# No, we do not need to make an object from the class to print the instance attribute."
   ]
  },
  {
   "cell_type": "code",
   "execution_count": 13,
   "id": "0bae92d2",
   "metadata": {},
   "outputs": [],
   "source": [
    "# 10.4\n",
    "# Define a new class called Element\n",
    "class Element:\n",
    "    # Define instance attributes called name, symbol, and number\n",
    "    def __init__(self, name, symbol, number):\n",
    "        self.name = name\n",
    "        self.symbol = symbol\n",
    "        self.number = number\n",
    "\n",
    "# Create an object of the Element class with the values 'Hydrogen', 'H', and 1\n",
    "hydrogen = Element('Hydrogen', 'H', 1)"
   ]
  },
  {
   "cell_type": "code",
   "execution_count": 14,
   "id": "4ed933ca",
   "metadata": {},
   "outputs": [],
   "source": [
    "# 10.5\n",
    "# Create a dictionary with these keys and values: 'name': 'Hydrogen', 'symbol': 'H', 'number': 1\n",
    "element_dict = {'name': 'Hydrogen', 'symbol': 'H', 'number': 1}\n",
    "\n",
    "# Create an object called hydrogen from class Element using this dictionary\n",
    "hydrogen = Element(**element_dict)"
   ]
  },
  {
   "cell_type": "code",
   "execution_count": 15,
   "id": "912cc0b7",
   "metadata": {},
   "outputs": [
    {
     "name": "stdout",
     "output_type": "stream",
     "text": [
      "Name: Hydrogen, Symbol: H, Number: 1\n"
     ]
    }
   ],
   "source": [
    "# 10.6\n",
    "# Redefine the Element class and add a method called dump() that prints the values of the object’s attributes (name, symbol, and number)\n",
    "class Element:\n",
    "    def __init__(self, name, symbol, number):\n",
    "        self.name = name\n",
    "        self.symbol = symbol\n",
    "        self.number = number\n",
    "    \n",
    "    def dump(self):\n",
    "        print(f\"Name: {self.name}, Symbol: {self.symbol}, Number: {self.number}\")\n",
    "\n",
    "# Create the hydrogen object from this new definition and use dump() to print its attributes\n",
    "hydrogen = Element('Hydrogen', 'H', 1)\n",
    "hydrogen.dump()"
   ]
  },
  {
   "cell_type": "code",
   "execution_count": 16,
   "id": "93d5e0c3",
   "metadata": {},
   "outputs": [
    {
     "name": "stdout",
     "output_type": "stream",
     "text": [
      "Name: Hydrogen, Symbol: H, Number: 1\n"
     ]
    }
   ],
   "source": [
    "# 10.7\n",
    "# Redefine the Element class and change the name of the dump() method to __str__\n",
    "class Element:\n",
    "    def __init__(self, name, symbol, number):\n",
    "        self.name = name\n",
    "        self.symbol = symbol\n",
    "        self.number = number\n",
    "    \n",
    "    def __str__(self):\n",
    "        return f\"Name: {self.name}, Symbol: {self.symbol}, Number: {self.number}\"\n",
    "\n",
    "# Create a new hydrogen object and call print(hydrogen)\n",
    "hydrogen = Element('Hydrogen', 'H', 1)\n",
    "print(hydrogen)"
   ]
  },
  {
   "cell_type": "code",
   "execution_count": 17,
   "id": "7442112f",
   "metadata": {},
   "outputs": [
    {
     "name": "stdout",
     "output_type": "stream",
     "text": [
      "Hydrogen\n",
      "<__main__.Element object at 0x000002A8D75D1B10>\n",
      "1\n"
     ]
    }
   ],
   "source": [
    "# 10.8\n",
    "# Redefine the Element class and make the attributes name, symbol, and number private\n",
    "class Element:\n",
    "    def __init__(self, name, symbol, number):\n",
    "        self.__name = name\n",
    "        self.__symbol = symbol\n",
    "        self.__number = number\n",
    "    \n",
    "    # Define a getter property for each attribute to return its value\n",
    "    @property\n",
    "    def name(self):\n",
    "        return self.__name\n",
    "    \n",
    "    @property\n",
    "    def symbol(self):\n",
    "        return self\n",
    "    @property\n",
    "    def number(self):\n",
    "        return self.__number\n",
    "\n",
    "hydrogen = Element('Hydrogen', 'H', 1)\n",
    "print(hydrogen.name)\n",
    "print(hydrogen.symbol)\n",
    "print(hydrogen.number)\n"
   ]
  },
  {
   "cell_type": "code",
   "execution_count": 18,
   "id": "793ca462",
   "metadata": {},
   "outputs": [
    {
     "name": "stdout",
     "output_type": "stream",
     "text": [
      "berries\n",
      "clover\n",
      "campers\n"
     ]
    }
   ],
   "source": [
    "# 10.9\n",
    "class Bear:\n",
    "    def eats(self):\n",
    "        return 'berries'\n",
    "\n",
    "class Rabbit:\n",
    "    def eats(self):\n",
    "        return 'clover'\n",
    "\n",
    "class Octothorpe:\n",
    "    def eats(self):\n",
    "        return 'campers'\n",
    "\n",
    "bear = Bear()\n",
    "rabbit = Rabbit()\n",
    "octothorpe = Octothorpe()\n",
    "\n",
    "print(bear.eats())\n",
    "print(rabbit.eats())\n",
    "print(octothorpe.eats())"
   ]
  }
 ],
 "metadata": {
  "kernelspec": {
   "display_name": "Python 3 (ipykernel)",
   "language": "python",
   "name": "python3"
  },
  "language_info": {
   "codemirror_mode": {
    "name": "ipython",
    "version": 3
   },
   "file_extension": ".py",
   "mimetype": "text/x-python",
   "name": "python",
   "nbconvert_exporter": "python",
   "pygments_lexer": "ipython3",
   "version": "3.10.9"
  }
 },
 "nbformat": 4,
 "nbformat_minor": 5
}
